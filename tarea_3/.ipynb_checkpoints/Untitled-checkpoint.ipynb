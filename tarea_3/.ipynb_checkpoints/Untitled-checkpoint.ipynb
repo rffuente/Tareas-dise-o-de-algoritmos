{
 "cells": [
  {
   "cell_type": "code",
   "execution_count": 35,
   "metadata": {},
   "outputs": [],
   "source": [
    "import numpy as np\n",
    "import pandas as pd\n",
    "\n",
    "%matplotlib inline\n",
    "import matplotlib.pyplot as plt\n",
    "from mpl_toolkits.mplot3d import Axes3D\n",
    "from ipywidgets import widgets\n",
    "from ipywidgets import IntSlider\n",
    "\n",
    "from sklearn.metrics.pairwise import cosine_similarity"
   ]
  },
  {
   "cell_type": "code",
   "execution_count": 8,
   "metadata": {},
   "outputs": [
    {
     "data": {
      "text/html": [
       "<div>\n",
       "<style scoped>\n",
       "    .dataframe tbody tr th:only-of-type {\n",
       "        vertical-align: middle;\n",
       "    }\n",
       "\n",
       "    .dataframe tbody tr th {\n",
       "        vertical-align: top;\n",
       "    }\n",
       "\n",
       "    .dataframe thead th {\n",
       "        text-align: right;\n",
       "    }\n",
       "</style>\n",
       "<table border=\"1\" class=\"dataframe\">\n",
       "  <thead>\n",
       "    <tr style=\"text-align: right;\">\n",
       "      <th></th>\n",
       "      <th>source</th>\n",
       "      <th>target</th>\n",
       "      <th>rating</th>\n",
       "    </tr>\n",
       "  </thead>\n",
       "  <tbody>\n",
       "    <tr>\n",
       "      <th>count</th>\n",
       "      <td>24186.000000</td>\n",
       "      <td>24186.000000</td>\n",
       "      <td>24186.000000</td>\n",
       "    </tr>\n",
       "    <tr>\n",
       "      <th>mean</th>\n",
       "      <td>864.029314</td>\n",
       "      <td>1051.093815</td>\n",
       "      <td>1.463946</td>\n",
       "    </tr>\n",
       "    <tr>\n",
       "      <th>std</th>\n",
       "      <td>1592.085638</td>\n",
       "      <td>1871.765504</td>\n",
       "      <td>2.903656</td>\n",
       "    </tr>\n",
       "    <tr>\n",
       "      <th>min</th>\n",
       "      <td>1.000000</td>\n",
       "      <td>1.000000</td>\n",
       "      <td>-10.000000</td>\n",
       "    </tr>\n",
       "    <tr>\n",
       "      <th>25%</th>\n",
       "      <td>58.000000</td>\n",
       "      <td>66.000000</td>\n",
       "      <td>1.000000</td>\n",
       "    </tr>\n",
       "    <tr>\n",
       "      <th>50%</th>\n",
       "      <td>238.000000</td>\n",
       "      <td>279.000000</td>\n",
       "      <td>1.000000</td>\n",
       "    </tr>\n",
       "    <tr>\n",
       "      <th>75%</th>\n",
       "      <td>898.000000</td>\n",
       "      <td>1068.000000</td>\n",
       "      <td>2.000000</td>\n",
       "    </tr>\n",
       "    <tr>\n",
       "      <th>max</th>\n",
       "      <td>7604.000000</td>\n",
       "      <td>7604.000000</td>\n",
       "      <td>10.000000</td>\n",
       "    </tr>\n",
       "  </tbody>\n",
       "</table>\n",
       "</div>"
      ],
      "text/plain": [
       "             source        target        rating\n",
       "count  24186.000000  24186.000000  24186.000000\n",
       "mean     864.029314   1051.093815      1.463946\n",
       "std     1592.085638   1871.765504      2.903656\n",
       "min        1.000000      1.000000    -10.000000\n",
       "25%       58.000000     66.000000      1.000000\n",
       "50%      238.000000    279.000000      1.000000\n",
       "75%      898.000000   1068.000000      2.000000\n",
       "max     7604.000000   7604.000000     10.000000"
      ]
     },
     "execution_count": 8,
     "metadata": {},
     "output_type": "execute_result"
    }
   ],
   "source": [
    "data = 'data/dataset_tarea_3.csv'\n",
    "\n",
    "data = pd.read_csv(data, header=None, names=['source', 'target', 'rating'])\n",
    "data.describe()"
   ]
  },
  {
   "cell_type": "code",
   "execution_count": 56,
   "metadata": {},
   "outputs": [],
   "source": [
    "K = list(range(10, 51, 10))\n",
    "times = list()"
   ]
  },
  {
   "cell_type": "code",
   "execution_count": 61,
   "metadata": {},
   "outputs": [
    {
     "data": {
      "text/plain": [
       "10"
      ]
     },
     "execution_count": 61,
     "metadata": {},
     "output_type": "execute_result"
    }
   ],
   "source": [
    "K[0]"
   ]
  },
  {
   "cell_type": "code",
   "execution_count": 58,
   "metadata": {},
   "outputs": [],
   "source": [
    "time = %timeit -r 1 -n 1 -o -q !bash run.sh $K[0] .1 2>/dev/null\n",
    "times.append(time)"
   ]
  },
  {
   "cell_type": "code",
   "execution_count": 59,
   "metadata": {},
   "outputs": [],
   "source": [
    "#for k in K:\n",
    "#    time = %timeit -r 1 -n 1 -o -q !bash run.sh $data $K[0] .1 2>/dev/null\n",
    "#    times.append(time)"
   ]
  },
  {
   "cell_type": "code",
   "execution_count": 21,
   "metadata": {},
   "outputs": [
    {
     "data": {
      "text/plain": [
       "[<TimeitResult : 14.8 s ± 0 ns per loop (mean ± std. dev. of 1 run, 1 loop each)>]"
      ]
     },
     "execution_count": 21,
     "metadata": {},
     "output_type": "execute_result"
    }
   ],
   "source": [
    "times"
   ]
  },
  {
   "cell_type": "code",
   "execution_count": 26,
   "metadata": {},
   "outputs": [],
   "source": [
    "source = np.array(data['source'])\n",
    "target = np.array(data['target'])\n",
    "rating = np.array(data['rating'])"
   ]
  },
  {
   "cell_type": "code",
   "execution_count": 44,
   "metadata": {},
   "outputs": [],
   "source": [
    "def data_plot(source, target, rating, K, elev = 30,azim=30):\n",
    "    fig = plt.figure(figsize=(10,8))\n",
    "    ax = Axes3D(fig)\n",
    "\n",
    "    ax.set_xlabel(r'$source$', fontsize = 20)\n",
    "    ax.set_ylabel(r'$target$', fontsize = 20)\n",
    "    ax.set_zlabel(r'$rating$', fontsize = 20)\n",
    "    ax.set_xlim([min(source)-100,max(source)+100])\n",
    "    ax.set_ylim([min(target)-100,max(target)+100])\n",
    "    ax.set_zlim([min(rating)-1,max(rating)+1])\n",
    "    ax.view_init(elev,azim)\n",
    "\n",
    "    ax.scatter(source, target, rating)\n",
    "    plt.show()"
   ]
  },
  {
   "cell_type": "code",
   "execution_count": 45,
   "metadata": {},
   "outputs": [
    {
     "data": {
      "application/vnd.jupyter.widget-view+json": {
       "model_id": "59caa459c0a84ac5acc3e60dd29dbc4b"
      }
     },
     "metadata": {},
     "output_type": "display_data"
    },
    {
     "data": {
      "text/plain": [
       "<function __main__.data_plot>"
      ]
     },
     "execution_count": 45,
     "metadata": {},
     "output_type": "execute_result"
    }
   ],
   "source": [
    "elev_widget = IntSlider(min=0,max=180,step=10,value=30)\n",
    "azim_widget = IntSlider(min=0,max=360,step=10,value=30)\n",
    "widgets.interact(data_plot,\n",
    "         source = widgets.fixed(source),\n",
    "         target = widgets.fixed(target),\n",
    "         rating = widgets.fixed(rating),\n",
    "         K = widgets.fixed(K),\n",
    "         elev=elev_widget,azim=azim_widget)"
   ]
  },
  {
   "cell_type": "code",
   "execution_count": null,
   "metadata": {},
   "outputs": [],
   "source": []
  }
 ],
 "metadata": {
  "kernelspec": {
   "display_name": "Python 3",
   "language": "python",
   "name": "python3"
  },
  "language_info": {
   "codemirror_mode": {
    "name": "ipython",
    "version": 3
   },
   "file_extension": ".py",
   "mimetype": "text/x-python",
   "name": "python",
   "nbconvert_exporter": "python",
   "pygments_lexer": "ipython3",
   "version": "3.5.4"
  }
 },
 "nbformat": 4,
 "nbformat_minor": 2
}
