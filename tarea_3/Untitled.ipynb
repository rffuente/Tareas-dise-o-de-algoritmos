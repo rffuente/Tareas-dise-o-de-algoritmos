{
 "cells": [
  {
   "cell_type": "markdown",
   "metadata": {},
   "source": [
    "<center>\n",
    "    <h1> INF564 Diseño avanzado de algoritmos</h1>\n",
    "    <h2> Tarea N°3 </h2>\n",
    "    <h2> 5 de agosto del 2019</h2>\n",
    "    <h4> Roberto Felipe Fuentes Zenteno - 201173037-2 - roberto.fuentes@alumnos.usm.cl</h4>\n",
    "</center>"
   ]
  },
  {
   "cell_type": "code",
   "execution_count": 115,
   "metadata": {},
   "outputs": [],
   "source": [
    "import numpy as np\n",
    "import pandas as pd\n",
    "\n",
    "%matplotlib inline\n",
    "import matplotlib.pyplot as plt\n",
    "from mpl_toolkits.mplot3d import Axes3D\n",
    "from ipywidgets import widgets\n",
    "from ipywidgets import IntSlider\n",
    "\n",
    "from sklearn.metrics.pairwise import cosine_similarity"
   ]
  },
  {
   "cell_type": "markdown",
   "metadata": {},
   "source": [
    "## Número de nucleos"
   ]
  },
  {
   "cell_type": "code",
   "execution_count": 116,
   "metadata": {},
   "outputs": [
    {
     "name": "stdout",
     "output_type": "stream",
     "text": [
      "hw.ncpu: 4\r\n"
     ]
    }
   ],
   "source": [
    "!sysctl hw.ncpu"
   ]
  },
  {
   "cell_type": "markdown",
   "metadata": {},
   "source": [
    "## Data"
   ]
  },
  {
   "cell_type": "code",
   "execution_count": 117,
   "metadata": {},
   "outputs": [
    {
     "data": {
      "text/html": [
       "<div>\n",
       "<style scoped>\n",
       "    .dataframe tbody tr th:only-of-type {\n",
       "        vertical-align: middle;\n",
       "    }\n",
       "\n",
       "    .dataframe tbody tr th {\n",
       "        vertical-align: top;\n",
       "    }\n",
       "\n",
       "    .dataframe thead th {\n",
       "        text-align: right;\n",
       "    }\n",
       "</style>\n",
       "<table border=\"1\" class=\"dataframe\">\n",
       "  <thead>\n",
       "    <tr style=\"text-align: right;\">\n",
       "      <th></th>\n",
       "      <th>source</th>\n",
       "      <th>target</th>\n",
       "      <th>rating</th>\n",
       "    </tr>\n",
       "  </thead>\n",
       "  <tbody>\n",
       "    <tr>\n",
       "      <th>count</th>\n",
       "      <td>24186.000000</td>\n",
       "      <td>24186.000000</td>\n",
       "      <td>24186.000000</td>\n",
       "    </tr>\n",
       "    <tr>\n",
       "      <th>mean</th>\n",
       "      <td>864.029314</td>\n",
       "      <td>1051.093815</td>\n",
       "      <td>1.463946</td>\n",
       "    </tr>\n",
       "    <tr>\n",
       "      <th>std</th>\n",
       "      <td>1592.085638</td>\n",
       "      <td>1871.765504</td>\n",
       "      <td>2.903656</td>\n",
       "    </tr>\n",
       "    <tr>\n",
       "      <th>min</th>\n",
       "      <td>1.000000</td>\n",
       "      <td>1.000000</td>\n",
       "      <td>-10.000000</td>\n",
       "    </tr>\n",
       "    <tr>\n",
       "      <th>25%</th>\n",
       "      <td>58.000000</td>\n",
       "      <td>66.000000</td>\n",
       "      <td>1.000000</td>\n",
       "    </tr>\n",
       "    <tr>\n",
       "      <th>50%</th>\n",
       "      <td>238.000000</td>\n",
       "      <td>279.000000</td>\n",
       "      <td>1.000000</td>\n",
       "    </tr>\n",
       "    <tr>\n",
       "      <th>75%</th>\n",
       "      <td>898.000000</td>\n",
       "      <td>1068.000000</td>\n",
       "      <td>2.000000</td>\n",
       "    </tr>\n",
       "    <tr>\n",
       "      <th>max</th>\n",
       "      <td>7604.000000</td>\n",
       "      <td>7604.000000</td>\n",
       "      <td>10.000000</td>\n",
       "    </tr>\n",
       "  </tbody>\n",
       "</table>\n",
       "</div>"
      ],
      "text/plain": [
       "             source        target        rating\n",
       "count  24186.000000  24186.000000  24186.000000\n",
       "mean     864.029314   1051.093815      1.463946\n",
       "std     1592.085638   1871.765504      2.903656\n",
       "min        1.000000      1.000000    -10.000000\n",
       "25%       58.000000     66.000000      1.000000\n",
       "50%      238.000000    279.000000      1.000000\n",
       "75%      898.000000   1068.000000      2.000000\n",
       "max     7604.000000   7604.000000     10.000000"
      ]
     },
     "execution_count": 117,
     "metadata": {},
     "output_type": "execute_result"
    }
   ],
   "source": [
    "data = 'data/dataset_tarea_3.csv'\n",
    "\n",
    "data = pd.read_csv(data, header=None, names=['source', 'target', 'rating'])\n",
    "data.describe()"
   ]
  },
  {
   "cell_type": "code",
   "execution_count": null,
   "metadata": {},
   "outputs": [],
   "source": []
  },
  {
   "cell_type": "code",
   "execution_count": 118,
   "metadata": {},
   "outputs": [],
   "source": [
    "source = np.array(data['source'])\n",
    "target = np.array(data['target'])\n",
    "rating = np.array(data['rating'])\n",
    "\n",
    "data_firstsecond_q = data[data['target'] > (np.max(data['target']) / 2)]"
   ]
  },
  {
   "cell_type": "code",
   "execution_count": 119,
   "metadata": {},
   "outputs": [],
   "source": [
    "sim_cos_fsq = cosine_similarity(data_firstsecond_q)"
   ]
  },
  {
   "cell_type": "code",
   "execution_count": 120,
   "metadata": {},
   "outputs": [],
   "source": [
    "sim_cos_alldata = cosine_similarity(data)"
   ]
  },
  {
   "cell_type": "code",
   "execution_count": 223,
   "metadata": {},
   "outputs": [],
   "source": [
    "def data_plot(data, data_fsq, elev = 20,azim=60):\n",
    "    fig = plt.figure(figsize=(20,15))\n",
    "    #3d plot\n",
    "    ax = fig.add_subplot(2, 2, 1, projection='3d')\n",
    "    ax.set_xlabel(r'$source$', fontsize = 20)\n",
    "    ax.set_ylabel(r'$target$', fontsize = 20)\n",
    "    ax.set_zlabel(r'$rating$', fontsize = 20)\n",
    "    ax.set_xlim([min(data['source'])-100,max(data['source'])+100])\n",
    "    ax.set_ylim([min(data['target'])-100,max(data['target'])+100])\n",
    "    ax.set_zlim([min(data['rating'])-1,max(data['rating'])+1])\n",
    "    ax.view_init(elev,azim)\n",
    "\n",
    "    ax.scatter(data['source'], data['target'], data['rating'], c=data['rating'], cmap='viridis', \n",
    "               s = 10, alpha = 0.3)\n",
    "    plt.title(\"Grafica de la data en 3D\")\n",
    "\n",
    "    #2d plot\n",
    "    ax = fig.add_subplot(2, 2, 2)\n",
    "    plt.xlabel(r'$source$', fontsize = 20)\n",
    "    plt.ylabel(r'$target$', fontsize = 20)\n",
    "    plt.xlim([min(data['source'])-100,max(data['source'])+100])\n",
    "    plt.ylim([min(data['target'])-100,max(data['target'])+100])\n",
    "    plt.grid()\n",
    "\n",
    "    plt.scatter(data['source'], data['target'], c=data['rating'], \n",
    "               s = data['rating']*20, alpha = 0.3, zorder = 1)\n",
    "    plt.colorbar(ticks=[-10,0,10])\n",
    "    plt.title(\"Grafica de la data en 2D\")\n",
    "    \n",
    "    #################################################\n",
    "    #3d plot\n",
    "    ax = fig.add_subplot(2, 2, 3, projection='3d')\n",
    "    ax.set_xlabel(r'$source$', fontsize = 20)\n",
    "    ax.set_ylabel(r'$target$', fontsize = 20)\n",
    "    ax.set_zlabel(r'$rating$', fontsize = 20)\n",
    "    ax.set_xlim([min(data_fsq['source'])-100,max(data_fsq['source'])+100])\n",
    "    ax.set_ylim([min(data_fsq['target'])-100,max(data_fsq['target'])+100])\n",
    "    ax.set_zlim([min(data_fsq['rating'])-1,max(data_fsq['rating'])+1])\n",
    "    ax.view_init(elev,azim)\n",
    "\n",
    "    ax.scatter(data_fsq['source'], data_fsq['target'], data_fsq['rating'], c=data_fsq['rating'], cmap='viridis', \n",
    "               s = 10, alpha = 0.3)\n",
    "    plt.title(\"Grafica de la data modificada en 3D\")\n",
    "\n",
    "    #2d plot\n",
    "    ax = fig.add_subplot(2, 2, 4)\n",
    "    plt.xlabel(r'$source$', fontsize = 20)\n",
    "    plt.ylabel(r'$target$', fontsize = 20)\n",
    "    plt.xlim([min(data_fsq['source'])-100,max(data_fsq['source'])+100])\n",
    "    plt.ylim([min(data_fsq['target'])-100,max(data_fsq['target'])+100])\n",
    "    plt.grid()\n",
    "\n",
    "    plt.scatter(data_fsq['source'], data_fsq['target'], c=data_fsq['rating'], \n",
    "               s = data_fsq['rating']*20, alpha = 0.3, zorder = 1)\n",
    "    plt.colorbar(ticks=[-10,0,10])\n",
    "    plt.title(\"Grafica de la data modificada en 2D\")\n",
    "    \n",
    "    plt.show()"
   ]
  },
  {
   "cell_type": "code",
   "execution_count": 224,
   "metadata": {},
   "outputs": [
    {
     "data": {
      "application/vnd.jupyter.widget-view+json": {
       "model_id": "e8aa1b50639f4ad6ba9963317e9a67d5"
      }
     },
     "metadata": {},
     "output_type": "display_data"
    },
    {
     "data": {
      "text/plain": [
       "<function __main__.data_plot>"
      ]
     },
     "execution_count": 224,
     "metadata": {},
     "output_type": "execute_result"
    }
   ],
   "source": [
    "elev_widget = IntSlider(min=0,max=180,step=10,value=20)\n",
    "azim_widget = IntSlider(min=0,max=360,step=10,value=60)\n",
    "widgets.interact(data_plot,\n",
    "         data = widgets.fixed(data),\n",
    "         data_fsq = widgets.fixed(data_firstsecond_q),\n",
    "         elev=elev_widget,azim=azim_widget)"
   ]
  },
  {
   "cell_type": "code",
   "execution_count": 123,
   "metadata": {},
   "outputs": [
    {
     "data": {
      "image/png": "[encoded data removed]",
      "text/plain": [
       "<Figure size 1296x576 with 1 Axes>"
      ]
     },
     "metadata": {},
     "output_type": "display_data"
    }
   ],
   "source": [
    "fig = plt.figure(figsize=(18,8))\n",
    "data_upper = np.triu(sim_cos_alldata, k=1) # Get upper triadiagonal without diagonal\n",
    "data_flatten = data_upper.flatten() # Vectorize matrix\n",
    "data_flatten = data_flatten[data_flatten>0] # Remove 0\n",
    "plt.hist(data_flatten, bins=20)\n",
    "plt.grid(True)\n",
    "plt.title(\"Histograma de similitud de cosenos con toda la data\")\n",
    "plt.show()"
   ]
  },
  {
   "cell_type": "code",
   "execution_count": 124,
   "metadata": {},
   "outputs": [
    {
     "data": {
      "image/png": "[encoded data removed]",
      "text/plain": [
       "<Figure size 1296x576 with 1 Axes>"
      ]
     },
     "metadata": {},
     "output_type": "display_data"
    }
   ],
   "source": [
    "fig = plt.figure(figsize=(18,8))\n",
    "data_upper = np.triu(sim_cos_fsq, k=1) # Get upper triadiagonal without diagonal\n",
    "data_flatten = data_upper.flatten() # Vectorize matrix\n",
    "data_flatten = data_flatten[data_flatten>0] # Remove 0\n",
    "plt.hist(data_flatten, bins=20)\n",
    "plt.grid(True)\n",
    "plt.title(\"Histograma de similitud de cosenos con primer y segundo cuadrante\")\n",
    "plt.show()"
   ]
  },
  {
   "cell_type": "code",
   "execution_count": 125,
   "metadata": {},
   "outputs": [],
   "source": [
    "K = list(range(10, 51, 10))"
   ]
  },
  {
   "cell_type": "code",
   "execution_count": 126,
   "metadata": {},
   "outputs": [],
   "source": [
    "iterations = []\n",
    "centroids = []\n",
    "\n",
    "for k in K:\n",
    "    !bash run.sh $k $.1 2>/dev/null > temp.txt\n",
    "    f = open(\"temp.txt\", \"r\")\n",
    "    first = True\n",
    "    aux = []\n",
    "    for i in f:\n",
    "        if(first):\n",
    "            iterations.append(int(i))\n",
    "            first = False\n",
    "        else:\n",
    "            c = i.split(\"(\")[1].split(\")\")[0].split(\",\")\n",
    "            c = [float(c[j]) for j in range(len(c))]\n",
    "            aux.append(c)\n",
    "    aux = np.array(aux)\n",
    "    centroids.append(aux)\n",
    "iterations = np.array(iterations)\n",
    "centroids = np.array(centroids)"
   ]
  },
  {
   "cell_type": "markdown",
   "metadata": {},
   "source": [
    "## Grafica de centroides y puntos"
   ]
  },
  {
   "cell_type": "code",
   "execution_count": 127,
   "metadata": {},
   "outputs": [],
   "source": [
    "def data_centroids_plot(source, target, rating, iterations, centroids, K, k , elev = 20,azim=60):\n",
    "    fig = plt.figure(figsize=(20,8))\n",
    "    #3d plot\n",
    "\n",
    "    ax = fig.add_subplot(1, 2, 1, projection='3d')\n",
    "    ax.set_xlabel(r'$source$', fontsize = 20)\n",
    "    ax.set_ylabel(r'$target$', fontsize = 20)\n",
    "    ax.set_zlabel(r'$rating$', fontsize = 20)\n",
    "    ax.set_xlim([min(source)-100,max(source)+100])\n",
    "    ax.set_ylim([min(target)-100,max(target)+100])\n",
    "    ax.set_zlim([min(rating)-1,max(rating)+1])\n",
    "    ax.view_init(elev,azim)\n",
    "\n",
    "    ax.scatter(source, target, rating, c=rating, cmap='viridis', s = 10, alpha = 0.3)\n",
    "    plt.title(str(K[k]) + \"3d\")\n",
    "    ax.scatter(centroids[k][:,0], centroids[k][:,1], centroids[k][:,2], c='r', marker='*', s=1000, \n",
    "               label = 'centroides')\n",
    "    ax.legend(loc='best',scatterpoints=1, frameon=False, labelspacing=2)\n",
    "    ax.tick_params(axis='x', which='major', labelsize=20)\n",
    "    ax.tick_params(axis='y', which='major', labelsize=20)\n",
    "    #2d plot\n",
    "    ax = fig.add_subplot(1, 2, 2)\n",
    "    ax.set_xlabel(r'$source$', fontsize = 20)\n",
    "    ax.set_ylabel(r'$target$', fontsize = 20)\n",
    "    ax.set_xlim([min(source)-100,max(source)+100])\n",
    "    ax.set_ylim([min(target)-100,max(target)+100])\n",
    "    ax.grid()\n",
    "\n",
    "    ax.scatter(source, target, c=rating, cmap='viridis', s = 10, alpha = 0.3, zorder = 1)\n",
    "    ax.scatter(centroids[k][:,0], centroids[k][:,1], c='r', marker='*', s = 500, zorder = 2, label = 'centroides')\n",
    "    plt.title(str(K[k]) + \"2d\")\n",
    "    ax.legend(loc='best')\n",
    "    ax.tick_params(axis='x', which='major', labelsize=20)\n",
    "    ax.tick_params(axis='y', which='major', labelsize=20)\n",
    "    \n",
    "    plt.show()"
   ]
  },
  {
   "cell_type": "code",
   "execution_count": 128,
   "metadata": {},
   "outputs": [
    {
     "data": {
      "application/vnd.jupyter.widget-view+json": {
       "model_id": "b9a75a36be3848ce89c49b42675d0eff"
      }
     },
     "metadata": {},
     "output_type": "display_data"
    },
    {
     "data": {
      "text/plain": [
       "<function __main__.data_centroids_plot>"
      ]
     },
     "execution_count": 128,
     "metadata": {},
     "output_type": "execute_result"
    }
   ],
   "source": [
    "elev_widget = IntSlider(min=0,max=180,step=10,value=20)\n",
    "azim_widget = IntSlider(min=0,max=360,step=10,value=60)\n",
    "k_widget = IntSlider(min=0,max=len(K)-1,step=1,value=0)\n",
    "widgets.interact(data_centroids_plot,\n",
    "         source = widgets.fixed(source),\n",
    "         target = widgets.fixed(target),\n",
    "         rating = widgets.fixed(rating),\n",
    "         iterations = widgets.fixed(iterations),\n",
    "         centroids = widgets.fixed(centroids),\n",
    "         K = widgets.fixed(K),\n",
    "         k = k_widget,\n",
    "         elev=elev_widget,azim=azim_widget)"
   ]
  },
  {
   "cell_type": "markdown",
   "metadata": {},
   "source": [
    "## Boxplots"
   ]
  },
  {
   "cell_type": "code",
   "execution_count": 160,
   "metadata": {},
   "outputs": [
    {
     "name": "stdout",
     "output_type": "stream",
     "text": [
      "Numero de centroides:  10\n",
      "Numero de centroides:  20\n",
      "Numero de centroides:  30\n",
      "Numero de centroides:  40\n",
      "Numero de centroides:  50\n"
     ]
    }
   ],
   "source": [
    "times = []\n",
    "iterations = []\n",
    "centroids = []\n",
    "for k in K:\n",
    "    print(\"Numero de centroides: \", k)\n",
    "    centroids_aux = []\n",
    "    iterations_aux = []\n",
    "    times_aux = []\n",
    "    for i in range(5):\n",
    "        time = %timeit -r 1 -n 1 -o -q !bash run.sh $k $.1 2>/dev/null > temp.txt\n",
    "        times_aux.append(time)\n",
    "        f = open(\"temp.txt\", \"r\")\n",
    "        first = True\n",
    "        aux = []\n",
    "        for j in f:\n",
    "            if(first):\n",
    "                iterations_aux.append(int(j))\n",
    "                first = False\n",
    "            else:\n",
    "                c = j.split(\"(\")[1].split(\")\")[0].split(\",\")\n",
    "                c = [float(c[k]) for k in range(len(c))]\n",
    "                aux.append(c)\n",
    "        aux = np.array(aux)\n",
    "        centroids_aux.append(aux)\n",
    "    iterations.append(iterations_aux)\n",
    "    times.append(times_aux)\n",
    "    centroids.append(centroids_aux)\n",
    "times = np.array(times)\n",
    "iterations = np.array(iterations)\n",
    "centroids = np.array(centroids)"
   ]
  },
  {
   "cell_type": "code",
   "execution_count": 181,
   "metadata": {},
   "outputs": [],
   "source": [
    "for i in range(len(times)):\n",
    "    for j in range(5):\n",
    "        times[i,j] = times[i,j].all_runs[0]"
   ]
  },
  {
   "cell_type": "code",
   "execution_count": 211,
   "metadata": {},
   "outputs": [],
   "source": [
    "def boxplot_times(times):\n",
    "    N = len(times)\n",
    "    fig, ax = plt.subplots(1, N, figsize=(20, 8), sharey=True)\n",
    "    for k in range(N):\n",
    "        t = list(times[k])\n",
    "        ax[k].boxplot(t)\n",
    "        ax[k].set_title(\"K = \" + str((k+1)*10), fontsize = 20)\n",
    "        ax[k].grid(True)\n",
    "        ax[k].tick_params(axis='x', which='major', labelsize=20)\n",
    "        ax[k].tick_params(axis='y', which='major', labelsize=20)\n",
    "    plt.tight_layout()\n",
    "    plt.suptitle(\"Boxplots de tiempo para distintos centroides K\", fontsize = 20)\n",
    "    plt.subplots_adjust(top=0.85)\n",
    "    plt.show()"
   ]
  },
  {
   "cell_type": "code",
   "execution_count": 218,
   "metadata": {},
   "outputs": [],
   "source": [
    "def boxplot_iterations(iterations):\n",
    "    N = len(iterations)\n",
    "    fig, ax = plt.subplots(1, N, figsize=(20, 8), sharey=True)\n",
    "    for k in range(N):\n",
    "        t = iterations[k]\n",
    "        ax[k].boxplot(t)\n",
    "        ax[k].set_title(\"K = \" + str((k+1)*10), fontsize = 20)\n",
    "        ax[k].grid(True)\n",
    "        ax[k].tick_params(axis='x', which='major', labelsize=20)\n",
    "        ax[k].tick_params(axis='y', which='major', labelsize=20)\n",
    "    plt.tight_layout()\n",
    "    plt.suptitle(\"Boxplots de iteraciones para distintos centroides K\", fontsize = 20)\n",
    "    plt.subplots_adjust(top=0.85)\n",
    "    plt.show()"
   ]
  },
  {
   "cell_type": "code",
   "execution_count": 219,
   "metadata": {},
   "outputs": [
    {
     "data": {
      "image/png": "[encoded data removed]",
      "text/plain": [
       "<Figure size 1440x576 with 5 Axes>"
      ]
     },
     "metadata": {},
     "output_type": "display_data"
    }
   ],
   "source": [
    "boxplot_times(times)"
   ]
  },
  {
   "cell_type": "code",
   "execution_count": 220,
   "metadata": {},
   "outputs": [
    {
     "data": {
      "image/png": "[encoded data removed]",
      "text/plain": [
       "<Figure size 1440x576 with 5 Axes>"
      ]
     },
     "metadata": {},
     "output_type": "display_data"
    }
   ],
   "source": [
    "boxplot_iterations(iterations)"
   ]
  },
  {
   "cell_type": "code",
   "execution_count": null,
   "metadata": {},
   "outputs": [],
   "source": []
  }
 ],
 "metadata": {
  "kernelspec": {
   "display_name": "Python 3",
   "language": "python",
   "name": "python3"
  },
  "language_info": {
   "codemirror_mode": {
    "name": "ipython",
    "version": 3
   },
   "file_extension": ".py",
   "mimetype": "text/x-python",
   "name": "python",
   "nbconvert_exporter": "python",
   "pygments_lexer": "ipython3",
   "version": "3.5.4"
  }
 },
 "nbformat": 4,
 "nbformat_minor": 2
}
